{
 "cells": [
  {
   "cell_type": "code",
   "execution_count": null,
   "metadata": {},
   "outputs": [],
   "source": [
    "# catalogue_local - catalog imagery on a local directory"
   ]
  },
  {
   "cell_type": "code",
   "execution_count": 1,
   "metadata": {},
   "outputs": [
    {
     "name": "stdout",
     "output_type": "stream",
     "text": [
      "C:\\\\crs\\\\proj\\\\2020_PEP_SSF\\\\practice_folder has 529 files\n"
     ]
    }
   ],
   "source": [
    "import datetime\n",
    "import os\n",
    "\n",
    "# dt = datetime.date.fromtimestamp(int(f.split('.')[0]))\n",
    "# print(dt.strftime(\"%A, %d %B %Y\"))\n",
    "\n",
    "cams = ['c1', 'c2']\n",
    "types = ['snap','var','timex','bright','dark','rundark']\n",
    "\n",
    "imagedir = r\"C:\\\\crs\\\\proj\\\\2020_PEP_SSF\\\\practice_folder\"\n",
    "for root, dirs, files in os.walk(imagedir):\n",
    "    print(\"{0} has {1} files\".format(root, len(files)))\n",
    "\n"
   ]
  },
  {
   "cell_type": "code",
   "execution_count": null,
   "metadata": {},
   "outputs": [],
   "source": []
  }
 ],
 "metadata": {
  "kernelspec": {
   "display_name": "Python 3",
   "language": "python",
   "name": "python3"
  },
  "language_info": {
   "codemirror_mode": {
    "name": "ipython",
    "version": 3
   },
   "file_extension": ".py",
   "mimetype": "text/x-python",
   "name": "python",
   "nbconvert_exporter": "python",
   "pygments_lexer": "ipython3",
   "version": "3.7.6"
  }
 },
 "nbformat": 4,
 "nbformat_minor": 4
}
