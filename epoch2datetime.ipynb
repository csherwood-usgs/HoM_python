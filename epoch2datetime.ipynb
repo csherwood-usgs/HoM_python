{
 "cells": [
  {
   "cell_type": "code",
   "execution_count": 1,
   "metadata": {},
   "outputs": [
    {
     "name": "stdout",
     "output_type": "stream",
     "text": [
      "2019-12-13\n"
     ]
    }
   ],
   "source": [
    "# epoch2datetime - demo converting image file name timestamp to Python datetime object\n",
    "import datetime\n",
    "# sample filename:\n",
    "f = '1576265400.c1.snap.jpg'\n",
    "# strip Unix timestamp in first part of name, convert to datetime\n",
    "dt = datetime.date.fromtimestamp(int(f.split('.')[0]))\n",
    "print(dt)"
   ]
  }
 ],
 "metadata": {
  "kernelspec": {
   "display_name": "Python 3",
   "language": "python",
   "name": "python3"
  },
  "language_info": {
   "codemirror_mode": {
    "name": "ipython",
    "version": 3
   },
   "file_extension": ".py",
   "mimetype": "text/x-python",
   "name": "python",
   "nbconvert_exporter": "python",
   "pygments_lexer": "ipython3",
   "version": "3.7.6"
  }
 },
 "nbformat": 4,
 "nbformat_minor": 4
}
